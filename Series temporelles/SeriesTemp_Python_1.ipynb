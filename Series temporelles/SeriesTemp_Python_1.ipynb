{
 "cells": [
  {
   "cell_type": "markdown",
   "metadata": {},
   "source": [
    "Title: Les séries temporelles avec Python (1/4)\n",
    "Author: Louis\n",
    "Date: '2021-03-05'\n",
    "Slug: timeseries-1\n",
    "Category: Python\n",
    "Tags: Python, Machine Learning, Statistiques, Data Science, Séries temporelles, Datetime\n",
    "Cover: images/cover_3.png\n",
    "Summary: Introduction à la manipulation de données temporelles avec Python"
   ]
  },
  {
   "cell_type": "markdown",
   "metadata": {},
   "source": [
    "# Les séries temporelles avec Python (1/4)\n",
    "\n",
    ">1. **Introduction à la manipulation de données temporelles avec Python**\n",
    ">2. Visualisation et opérations sur les séries temporelles\n",
    ">3. Éléments théoriques et exemples\n",
    ">4. Analyse, modélisation et prédiction\n",
    "\n",
    "Cet article introductif est le premier d'une séquence de 4 posts sur les séries temporelles. Avant d'entrer dans le vif du sujet, nous allons donc nous pencher sur le fonctionnement, le stockage et la manipulation des données temporelles avec Python.\n",
    "\n",
    "# Introduction à la manipulation de données temporelles avec Python\n",
    "\n",
    "La libraire `Pandas` a été développée dans un contexte de données financières et son nom est une contraction de *Panel Datas* (données de panel), c'est-à-dire des données pour lesquelles on a, pour un même individu, des observations au cours du temps. `Pandas` contient donc par essence de nombreux outils pour travailler avec les dates, le temps et des données indexées en fonction du temps.\n",
    "\n",
    "> *\"Une série temporelle, ou série chronologique, est une suite de valeurs numériques représentant l'évolution d'une quantité spécifique au cours du temps.\"*  \n",
    "> [Maître Wiki](https://fr.wikipedia.org/wiki/S%C3%A9rie_temporelle)\n",
    "\n",
    "Une série temporelle peut être vue comme un cas très particulier des données panel puisqu'il s'agit de l'évolution d'une seule observation au cours du temps.\n",
    "\n",
    "Nous allons donc nous intéresser à ces données temporelles et pour commencer, un peu de vocabulaire et d'anglicisme :\n",
    "- **Timestamps** correspond à un moment précis (par exemple *03 juin 2020, 14:15:16*)\n",
    "- **Time intervals** et **periods** correspondent à une durée ayant des dates de début et de fin précises (par exemple, *l'année 2020*)\n",
    "- **Time deltas** ou **durations** correspondent à une durée exacte (par exemple *123.45 secondes*)\n",
    "\n",
    "On va voir comment utiliser et manipuler ces objets date/time avec Python d'une part, puis avec `Pandas` plus particulièrement."
   ]
  },
  {
   "cell_type": "markdown",
   "metadata": {},
   "source": [
    "## 1. Les dates (et heures) avec Python\n",
    "\n",
    "Python a de nombreuses représentations et formats possibles des dates, heures, durées...un petit tour d'horizon s'impose."
   ]
  },
  {
   "cell_type": "markdown",
   "metadata": {},
   "source": [
    "### 1.1. Les packages`datetime` and `dateutil`\n",
    "\n",
    "Les objet natifs Python pour les dates/times sont dans le module built-in `datetime`. En utilisant également le package `dateutil`, on peut facilement et rapidement effecture bon nombre d'opérations sur objets temporels.\n",
    "\n",
    "Par exemple, on peut construire une date manuellement."
   ]
  },
  {
   "cell_type": "code",
   "execution_count": 24,
   "metadata": {
    "collapsed": false,
    "jupyter": {
     "outputs_hidden": false
    }
   },
   "outputs": [
    {
     "data": {
      "text/plain": [
       "datetime.datetime(2021, 4, 30, 0, 0)"
      ]
     },
     "execution_count": 24,
     "metadata": {},
     "output_type": "execute_result"
    }
   ],
   "source": [
    "from datetime import datetime\n",
    "datetime(year=2021, month=4, day=30)"
   ]
  },
  {
   "cell_type": "markdown",
   "metadata": {},
   "source": [
    "Ou avec le module `dateutil`, on peut lire différents format de dates à partir de chaînes de caractères."
   ]
  },
  {
   "cell_type": "code",
   "execution_count": 26,
   "metadata": {
    "collapsed": false,
    "jupyter": {
     "outputs_hidden": false
    }
   },
   "outputs": [
    {
     "data": {
      "text/plain": [
       "(datetime.datetime(2021, 4, 30, 14, 0),\n",
       " datetime.datetime(2021, 4, 30, 14, 15, 16))"
      ]
     },
     "execution_count": 26,
     "metadata": {},
     "output_type": "execute_result"
    }
   ],
   "source": [
    "from dateutil import parser\n",
    "d1 = parser.parse(\"30 of April, 2021, 14:00\")\n",
    "d2 = parser.parse(\"30/04/2021 14:15:16\", dayfirst=True)\n",
    "d1, d2"
   ]
  },
  {
   "cell_type": "markdown",
   "metadata": {},
   "source": [
    "Une fois qu'on manipule un objet `datetime`, on peut facilement effectuer des opérations sur cet objet. Par exemple, récupérer en chaîne de caractères le jour de la semaine correspondant, le mois, l'année, etc...\n",
    "\n",
    "Pour en savoir plus sur `strftime` et les codes standards de format de string pour afficher les dates ce sera dans la [section strftime](https://docs.python.org/3/library/datetime.html#strftime-and-strptime-behavior) de la doc Python [datetime](https://docs.python.org/3/library/datetime.html).\n",
    "Une autre aide utile sur les manipulation de dates est la [documentation en ligne de dateutil](http://labix.org/python-dateutil)."
   ]
  },
  {
   "cell_type": "code",
   "execution_count": 27,
   "metadata": {
    "collapsed": false,
    "jupyter": {
     "outputs_hidden": false
    }
   },
   "outputs": [
    {
     "data": {
      "text/plain": [
       "('Friday', 'Fri', '30', 'April', '2021')"
      ]
     },
     "execution_count": 27,
     "metadata": {},
     "output_type": "execute_result"
    }
   ],
   "source": [
    "d1.strftime(\"%A\"), d1.strftime(\"%a\"), d1.strftime(\"%d\"), d1.strftime(\"%B\"), d1.strftime(\"%Y\")"
   ]
  },
  {
   "cell_type": "markdown",
   "metadata": {},
   "source": [
    "__À savoir__ : il existe un package utile [`pytz`](http://pytz.sourceforge.net/) contenant des outils pour pouvoir travailler avec les *timezones*.\n",
    "\n",
    "L'intérêt de `datetime` et `dateutil` est leur flexibilité et leur facilité d'utilisation/syntaxe : on peut faire plus ou moins tout ce qu'on veut en utilisant les objets `datetime` et leurs méthodes built-in.\n",
    "\n",
    "Un bémol c'est la gestion des grandes quantités de données : de la même manière que les listes numériques ne sont pas optimales comparées à des arrays `numpy` de type numérique, les listes d'objets `datetime` ne sont pas optimales comparées à des tableaux ayant un type date/time."
   ]
  },
  {
   "cell_type": "markdown",
   "metadata": {},
   "source": [
    "### 1.2. Le type de données date des tableaux numpy : `datetime64`\n",
    "\n",
    "Pour pallier cet écueil, un type de données temporelles natif a été ajouté à `numpy`. Le dtype `datetime64` encode les dates sous forme d'entiers 64-bits et par conséquent les tableaux ayant des données de ce type sont très compacts (pour rappel, un tableau numpy ne peut contenir qu'un seul type de données).\n",
    "\n",
    "Le dtype `datetime64` nécessite toutefois un format particulier comme par exemple `\"YYYY-MM-DD\"` ou `\"YYYY-MM\"`. D'autre éléments peuvent être précisés et pour en savoir plus, c'est [sur la documentation numpy](https://numpy.org/doc/stable/reference/arrays.datetime.html)."
   ]
  },
  {
   "cell_type": "code",
   "execution_count": 1,
   "metadata": {
    "collapsed": false,
    "jupyter": {
     "outputs_hidden": false
    }
   },
   "outputs": [
    {
     "data": {
      "text/plain": [
       "array('2021-04-30', dtype='datetime64[D]')"
      ]
     },
     "execution_count": 1,
     "metadata": {},
     "output_type": "execute_result"
    }
   ],
   "source": [
    "import numpy as np\n",
    "date = np.array('2021-04-30', dtype=np.datetime64)\n",
    "date"
   ]
  },
  {
   "cell_type": "markdown",
   "metadata": {},
   "source": [
    "Une fois qu'on a une date dans le bon format, on peut facilement effectuer des opérations vectorielles dessus :"
   ]
  },
  {
   "cell_type": "code",
   "execution_count": 31,
   "metadata": {
    "collapsed": false,
    "jupyter": {
     "outputs_hidden": false
    }
   },
   "outputs": [
    {
     "data": {
      "text/plain": [
       "array(['2021-04-30', '2021-05-01', '2021-05-02', '2021-05-03',\n",
       "       '2021-05-04', '2021-05-05', '2021-05-06', '2021-05-07',\n",
       "       '2021-05-08', '2021-05-09', '2021-05-10', '2021-05-11',\n",
       "       '2021-05-12', '2021-05-13', '2021-05-14', '2021-05-15',\n",
       "       '2021-05-16', '2021-05-17', '2021-05-18', '2021-05-19',\n",
       "       '2021-05-20', '2021-05-21', '2021-05-22', '2021-05-23',\n",
       "       '2021-05-24', '2021-05-25', '2021-05-26', '2021-05-27',\n",
       "       '2021-05-28', '2021-05-29', '2021-05-30'], dtype='datetime64[D]')"
      ]
     },
     "execution_count": 31,
     "metadata": {},
     "output_type": "execute_result"
    }
   ],
   "source": [
    "date + np.arange(31)"
   ]
  },
  {
   "cell_type": "markdown",
   "metadata": {},
   "source": [
    "Grâce au type de données uniforme dans les tableaux `datetime64`, ce genre d'opérations vectorielles peut être effectué bien plus rapidement qu'en travaillant directement avec les objets `datetime` de Python, particulièrement pour de grands tableaux.\n",
    "\n",
    "Une particularité des objets `datetime64` et `timedelta64` est qu'ils sont construits sur une *unité fondamentale de temps (UFT)*. Comme le `datetime64` est limité à une précision de 64-bit, le nombre de datetime qu'on peut encoder est $2^{64}$ fois l'UFT. En d'autres termes, `datetime64` nécessite un arbitrage entre *résolution temporelle* et *intervalle maximal de temps* .  \n",
    "Par exemple, si on veut une précision de 1 nanoseconde, alors on pourra avoir la place pour encoder $2^{64}$ nanosecondes, soit un peu moins de 600 ans.\n",
    "\n",
    "`numpy` déduit l'UFT désirée à partir de l'input mais on peut bien sûr aussi le spécifier."
   ]
  },
  {
   "cell_type": "code",
   "execution_count": 32,
   "metadata": {
    "collapsed": false,
    "jupyter": {
     "outputs_hidden": false
    }
   },
   "outputs": [
    {
     "data": {
      "text/plain": [
       "numpy.datetime64('2021-04-30')"
      ]
     },
     "execution_count": 32,
     "metadata": {},
     "output_type": "execute_result"
    }
   ],
   "source": [
    "# un datetime basé sur le jour\n",
    "np.datetime64('2021-04-30')"
   ]
  },
  {
   "cell_type": "code",
   "execution_count": 35,
   "metadata": {
    "collapsed": false,
    "jupyter": {
     "outputs_hidden": false
    }
   },
   "outputs": [
    {
     "data": {
      "text/plain": [
       "numpy.datetime64('2021-04-30T14:15')"
      ]
     },
     "execution_count": 35,
     "metadata": {},
     "output_type": "execute_result"
    }
   ],
   "source": [
    "# un datetime basé sur la minute\n",
    "np.datetime64('2021-04-30 14:15')"
   ]
  },
  {
   "cell_type": "code",
   "execution_count": 36,
   "metadata": {
    "collapsed": false,
    "jupyter": {
     "outputs_hidden": false
    }
   },
   "outputs": [
    {
     "data": {
      "text/plain": [
       "numpy.datetime64('2021-04-30T14:15:16.000000000')"
      ]
     },
     "execution_count": 36,
     "metadata": {},
     "output_type": "execute_result"
    }
   ],
   "source": [
    "# un datetime basé sur la nanoseconde en fixant l'unité fondamentale de temps\n",
    "np.datetime64('2021-04-30 14:15:16', 'ns')"
   ]
  },
  {
   "cell_type": "markdown",
   "metadata": {},
   "source": [
    "À noter aussi, la timezone est par défaut celle de l'ordinateur qui exécute le code.\n",
    "\n",
    "Le tableau suivant issu de [la documentation numpy de datetime64](http://docs.scipy.org/doc/numpy/reference/arrays.datetime.html) liste les codes disponibles ainsi que les échelles relatives et absolues qu'ils permettent d'encoder.\n",
    "\n",
    "|Code  | Signification | Durée relative | Durée absolue           |\n",
    "|------|---------------|----------------|-------------------------|\n",
    "| `Y`  | Year          | ± 9.2e18 ans   | [9.2e18 av.J-C, 9.2e18] |\n",
    "| `M`  | Month         | ± 7.6e17 ans   | [7.6e17 av.J-C, 7.6e17] |\n",
    "| `W`  | Week          | ± 1.7e17 ans   | [1.7e17 av.J-C, 1.7e17] |\n",
    "| `D`  | Day           | ± 2.5e16 ans   | [2.5e16 av.J-C, 2.5e16] |\n",
    "| `h`  | Hour          | ± 1.0e15 ans   | [1.0e15 av.J-C, 1.0e15] |\n",
    "| `m`  | Minute        | ± 1.7e13 ans   | [1.7e13 av.J-C, 1.7e13] |\n",
    "| `s`  | Second        | ± 2.9e12 ans   | [ 2.9e9 av.J-C, 2.9e9]  |\n",
    "| `ms` | Millisecond   | ± 2.9e9 ans    | [ 2.9e6 av.J-C, 2.9e6]  |\n",
    "| `us` | Microsecond   | ± 2.9e6 ans    | [290301 av.J-C, 294241] |\n",
    "| `ns` | Nanosecond    | ± 292 ans      | [ 1678, 2262]           |\n",
    "| `ps` | Picosecond    | ± 106 jours    | [ 1969, 1970]           |\n",
    "| `fs` | Femtosecond   | ± 2.6 heures   | [ 1969, 1970]           |\n",
    "| `as` | Attosecond    | ± 9.2 secondes | [ 1969, 1970]           |\n",
    "\n",
    "Dans la \"vraie vie\", on utilise généralement `datetime64[ns]` car cela permet d'encoder une échelle de temps avec des dates actuelles et une précision suffisament fine.\n",
    "\n",
    "Finalement, on retiendra que le type `datetime64` règle certains défauts du type built-in de Python `datetime`, cependant il manque plusieurs des méthodes et fonctions bien utiles fournies par `datetime` et surtout `dateutil`."
   ]
  },
  {
   "cell_type": "markdown",
   "metadata": {},
   "source": [
    "### 1.3. Dates et times avec `pandas`: le meilleur des 2 mondes\n",
    "\n",
    "`Pandas` se base sur les outils vus à l'instant pour fournir un objet `Timestamp` qui combine la facilité d'utilisation de `datetime`/`dateutil` avec l'efficacité de stockage et de calcul vectoriel de``numpy.datetime64``.\n",
    "\n",
    "À partir de ces objets `Timestamp`, `Pandas` peut construire une index `DatetimeIndex` qu'on peut utiliser pour indexer les données d'une `Series` ou d'un `DataFrame`.\n",
    "\n",
    "Par exemple, on peut utiliser les outils de `Pandas` pour refaire les opérations qu'on a fait juste avant, à savoir: lire une chaîne de caractères contenant un format de date flexible, utiliser les codes de format pour récupérer le jour de la semaine ou encore effectuer des opérations vectorielles comme avec `numpy`."
   ]
  },
  {
   "cell_type": "code",
   "execution_count": 37,
   "metadata": {
    "collapsed": false,
    "jupyter": {
     "outputs_hidden": false
    }
   },
   "outputs": [
    {
     "data": {
      "text/plain": [
       "Timestamp('2021-04-30 00:00:00')"
      ]
     },
     "execution_count": 37,
     "metadata": {},
     "output_type": "execute_result"
    }
   ],
   "source": [
    "import pandas as pd\n",
    "date = pd.to_datetime(\"30 of April, 2021\")\n",
    "date"
   ]
  },
  {
   "cell_type": "code",
   "execution_count": 38,
   "metadata": {
    "collapsed": false,
    "jupyter": {
     "outputs_hidden": false
    }
   },
   "outputs": [
    {
     "data": {
      "text/plain": [
       "'Friday'"
      ]
     },
     "execution_count": 38,
     "metadata": {},
     "output_type": "execute_result"
    }
   ],
   "source": [
    "date.strftime('%A')"
   ]
  },
  {
   "cell_type": "code",
   "execution_count": 39,
   "metadata": {},
   "outputs": [
    {
     "name": "stdout",
     "output_type": "stream",
     "text": [
      "30 Friday\n",
      "2021\n",
      "4 April\n"
     ]
    }
   ],
   "source": [
    "print(date.day, date.day_name())\n",
    "print(date.year)\n",
    "print(date.month, date.month_name())"
   ]
  },
  {
   "cell_type": "code",
   "execution_count": 40,
   "metadata": {
    "collapsed": false,
    "jupyter": {
     "outputs_hidden": false
    }
   },
   "outputs": [
    {
     "data": {
      "text/plain": [
       "DatetimeIndex(['2021-04-30', '2021-05-01', '2021-05-02', '2021-05-03',\n",
       "               '2021-05-04', '2021-05-05', '2021-05-06', '2021-05-07',\n",
       "               '2021-05-08', '2021-05-09', '2021-05-10', '2021-05-11',\n",
       "               '2021-05-12', '2021-05-13', '2021-05-14', '2021-05-15',\n",
       "               '2021-05-16', '2021-05-17', '2021-05-18', '2021-05-19',\n",
       "               '2021-05-20', '2021-05-21', '2021-05-22', '2021-05-23',\n",
       "               '2021-05-24', '2021-05-25', '2021-05-26', '2021-05-27',\n",
       "               '2021-05-28', '2021-05-29', '2021-05-30'],\n",
       "              dtype='datetime64[ns]', freq=None)"
      ]
     },
     "execution_count": 40,
     "metadata": {},
     "output_type": "execute_result"
    }
   ],
   "source": [
    "date + pd.to_timedelta(np.arange(31), 'D')\n",
    "# à noter ici l'utilisation de to_timedelta pour transformer \n",
    "# le tableau d'entiers en tableau de durées"
   ]
  },
  {
   "cell_type": "code",
   "execution_count": 41,
   "metadata": {},
   "outputs": [
    {
     "data": {
      "text/plain": [
       "DatetimeIndex(['2021-04-30 14:00:00', '2021-04-30 20:00:00',\n",
       "               '2021-05-01 02:00:00', '2021-05-01 08:00:00',\n",
       "               '2021-05-01 14:00:00', '2021-05-01 20:00:00',\n",
       "               '2021-05-02 02:00:00', '2021-05-02 08:00:00',\n",
       "               '2021-05-02 14:00:00', '2021-05-02 20:00:00',\n",
       "               '2021-05-03 02:00:00', '2021-05-03 08:00:00',\n",
       "               '2021-05-03 14:00:00'],\n",
       "              dtype='datetime64[ns]', freq=None)"
      ]
     },
     "execution_count": 41,
     "metadata": {},
     "output_type": "execute_result"
    }
   ],
   "source": [
    "# ici on crée un liste d'entier entre 0 et 72 avec un intervalle de 6 \n",
    "# que l'on transforme en durée en heures avant de les ajouter à notre timestamp\n",
    "d = pd.to_datetime(\"30 of April, 2021, 14:00\")\n",
    "d + pd.to_timedelta(np.arange(0,73,6), 'h')"
   ]
  },
  {
   "cell_type": "code",
   "execution_count": 42,
   "metadata": {},
   "outputs": [
    {
     "data": {
      "text/plain": [
       "DatetimeIndex(['2021-04-30 14:00:00', '2021-04-30 14:10:00',\n",
       "               '2021-04-30 14:20:00', '2021-04-30 14:30:00',\n",
       "               '2021-04-30 14:40:00', '2021-04-30 14:50:00',\n",
       "               '2021-04-30 15:00:00', '2021-04-30 15:10:00',\n",
       "               '2021-04-30 15:20:00', '2021-04-30 15:30:00',\n",
       "               '2021-04-30 15:40:00'],\n",
       "              dtype='datetime64[ns]', freq=None)"
      ]
     },
     "execution_count": 42,
     "metadata": {},
     "output_type": "execute_result"
    }
   ],
   "source": [
    "# un dernier exemple avant le suivant\n",
    "d = pd.to_datetime(\"30 of April, 2021, 14:00\")\n",
    "d + pd.to_timedelta(np.arange(0, 101, 10), 'm')"
   ]
  },
  {
   "cell_type": "markdown",
   "metadata": {},
   "source": [
    "## 2. Séries temporelles avec `pandas`\n",
    "\n",
    "### 2.1. L'indexation par le temps\n",
    "\n",
    "L'intérêt des time series de `pandas` réside dans l'utilisation d'une indexation des données par des *timestamps*. On crée donc un objet `DatetimeIndex` pour ensuite indexer la série."
   ]
  },
  {
   "cell_type": "code",
   "execution_count": 47,
   "metadata": {
    "collapsed": false,
    "jupyter": {
     "outputs_hidden": false
    }
   },
   "outputs": [
    {
     "data": {
      "text/plain": [
       "(2020-03-30    0\n",
       " 2020-04-30    1\n",
       " 2021-03-30    2\n",
       " 2021-04-30    3\n",
       " dtype: int64,\n",
       " DatetimeIndex(['2020-03-30', '2020-04-30', '2021-03-30', '2021-04-30'], dtype='datetime64[ns]', freq=None))"
      ]
     },
     "execution_count": 47,
     "metadata": {},
     "output_type": "execute_result"
    }
   ],
   "source": [
    "index = pd.DatetimeIndex(['2020-03-30', '2020-04-30', '2021-03-30', '2021-04-30'])\n",
    "data = pd.Series([0, 1, 2, 3], index=index)\n",
    "data, data.index"
   ]
  },
  {
   "cell_type": "markdown",
   "metadata": {},
   "source": [
    "Une fois qu'on a une `Series`, on peut utiliser les index datetime comme pour n'importe quel autre index et notamment avoir recours au *slicing*."
   ]
  },
  {
   "cell_type": "code",
   "execution_count": 54,
   "metadata": {
    "collapsed": false,
    "jupyter": {
     "outputs_hidden": false
    }
   },
   "outputs": [
    {
     "data": {
      "text/plain": [
       "2020-03-30    0\n",
       "2020-04-30    1\n",
       "2021-03-30    2\n",
       "dtype: int64"
      ]
     },
     "execution_count": 54,
     "metadata": {},
     "output_type": "execute_result"
    }
   ],
   "source": [
    "data['2020-03-30':'2021-03-30']"
   ]
  },
  {
   "cell_type": "markdown",
   "metadata": {},
   "source": [
    "Par ailleurs certaines opérations spécifiques aux `DatetimeIndex` permettent d'obtenir des slicing différents comme par exemple utiliser une année pour récupérer toutes les observations de cette année ou un date seuil pour récupérer toutes les données avant/après cette date."
   ]
  },
  {
   "cell_type": "code",
   "execution_count": 53,
   "metadata": {
    "collapsed": false,
    "jupyter": {
     "outputs_hidden": false
    }
   },
   "outputs": [
    {
     "data": {
      "text/plain": [
       "(2020-03-30    0\n",
       " 2020-04-30    1\n",
       " dtype: int64,\n",
       " 2020-04-30    1\n",
       " dtype: int64,\n",
       " 2021-03-30    2\n",
       " 2021-04-30    3\n",
       " dtype: int64)"
      ]
     },
     "execution_count": 53,
     "metadata": {},
     "output_type": "execute_result"
    }
   ],
   "source": [
    "data['2020'], data['2020-04'], data['2020-05-01':]"
   ]
  },
  {
   "cell_type": "markdown",
   "metadata": {},
   "source": [
    "### 2.2. Les structures de données `pandas` pour les séries temporelles\n",
    "\n",
    "Nous allons maintenant introduire les structures de données fondamentales de `pandas` pour travailler avec les séries temporelles :\n",
    "- pour les *timestamps*, il y a le type `Timestamp` : l'idée est que ça remplace le type natif de Python `datetime` tout en étant construit sur le type `numpy.datetime64` qui est plus efficace.  \n",
    "La structure d'index associée est le `DatetimeIndex`\n",
    "- pour les *time Periods*, il y a le type `Period` : il permet d'encoder des durées de fréquences fixes basées sur `numpy.datetime64`.  \n",
    "La structure d'index associée est le `PeriodIndex`\n",
    "- pour les *time deltas* ou *durations*, il y a le type`Timedelta` : c'est un remplaçant plus efficace du type natif de Python `datetime.timedelta` basé sur `numpy.timedelta64`.  \n",
    "La structure d'index associée est le `TimedeltaIndex`\n",
    "\n",
    "**Les plus importantes de ces structures date/time sont les objets `Timestamp` et `DatetimeIndex`.**\n",
    "\n",
    "Même si on peut très bien appeler ces classes d'objets directement, généralement on passe par la fonction `pd.to_datetime()` qui permet de lire une grande variété de formats de chaîne de caractères. Si on passe une seule date à `pd.to_datetime()`, on obtient un `Timestamp`. Si on lui passe une série de dates, on obtient un `DatetimeIndex`."
   ]
  },
  {
   "cell_type": "code",
   "execution_count": 57,
   "metadata": {
    "collapsed": false,
    "jupyter": {
     "outputs_hidden": false
    }
   },
   "outputs": [
    {
     "data": {
      "text/plain": [
       "DatetimeIndex(['2021-04-30', '2021-05-06', '2021-06-07', '2021-06-10',\n",
       "               '2021-04-29'],\n",
       "              dtype='datetime64[ns]', freq=None)"
      ]
     },
     "execution_count": 57,
     "metadata": {},
     "output_type": "execute_result"
    }
   ],
   "source": [
    "dates = pd.to_datetime([datetime(2021, 4, 30), '6th of May, 2021', '2021-Jun-7', '06-10-2021', '20210429'])\n",
    "dates"
   ]
  },
  {
   "cell_type": "markdown",
   "metadata": {},
   "source": [
    "Tout objet `DatetimeIndex` peut être converti en `PeriodIndex` avec la fonction `to_period()` en ajoutant un code de fréquence (par exemple `'D'` pour une fréquence quotidienne ou `'M'` pour une fréquence mensuelle) :"
   ]
  },
  {
   "cell_type": "code",
   "execution_count": 58,
   "metadata": {
    "collapsed": false,
    "jupyter": {
     "outputs_hidden": false
    }
   },
   "outputs": [
    {
     "data": {
      "text/plain": [
       "PeriodIndex(['2021-04', '2021-05', '2021-06', '2021-06', '2021-04'], dtype='period[M]', freq='M')"
      ]
     },
     "execution_count": 58,
     "metadata": {},
     "output_type": "execute_result"
    }
   ],
   "source": [
    "dates.to_period('M')"
   ]
  },
  {
   "cell_type": "code",
   "execution_count": 59,
   "metadata": {},
   "outputs": [
    {
     "data": {
      "text/plain": [
       "PeriodIndex(['2021-04-30', '2021-05-06', '2021-06-07', '2021-06-10',\n",
       "             '2021-04-29'],\n",
       "            dtype='period[D]', freq='D')"
      ]
     },
     "execution_count": 59,
     "metadata": {},
     "output_type": "execute_result"
    }
   ],
   "source": [
    "dates.to_period('D')"
   ]
  },
  {
   "cell_type": "markdown",
   "metadata": {},
   "source": [
    "Enfin, un objet `TimedeltaIndex` peut être par exemple créé lorsqu'on soustrait 2 dates :"
   ]
  },
  {
   "cell_type": "code",
   "execution_count": 61,
   "metadata": {
    "collapsed": false,
    "jupyter": {
     "outputs_hidden": false
    }
   },
   "outputs": [
    {
     "data": {
      "text/plain": [
       "TimedeltaIndex(['-6 days', '0 days', '32 days', '35 days', '-7 days'], dtype='timedelta64[ns]', freq=None)"
      ]
     },
     "execution_count": 61,
     "metadata": {},
     "output_type": "execute_result"
    }
   ],
   "source": [
    "dates - dates[1]"
   ]
  },
  {
   "cell_type": "markdown",
   "metadata": {},
   "source": [
    "### 2.3. Les séquences avec `pd.date_range()`\n",
    "\n",
    "Pour pouvoir créer des séquences régulières de dates, `pandas` contient un certain nombre de fonctions : `pd.date_range()`, `pd.period_range()` et `pd.timedelta_range()`.\n",
    "Les `range()` de Python et `arange()` de numpy prennent comme paramètres un premier élément, un dernier élément (non-inclus) et éventuellement un pas.  \n",
    "De la même manière, `pd.date_range()` prend une date de départ, une date de fin (qui elle est inclue !) et éventuellement une fréquence (qui vaut 1 jour par défaut)."
   ]
  },
  {
   "cell_type": "code",
   "execution_count": 63,
   "metadata": {
    "collapsed": false,
    "jupyter": {
     "outputs_hidden": false
    }
   },
   "outputs": [
    {
     "data": {
      "text/plain": [
       "DatetimeIndex(['2021-04-30', '2021-05-01', '2021-05-02', '2021-05-03',\n",
       "               '2021-05-04', '2021-05-05', '2021-05-06', '2021-05-07',\n",
       "               '2021-05-08', '2021-05-09', '2021-05-10'],\n",
       "              dtype='datetime64[ns]', freq='D')"
      ]
     },
     "execution_count": 63,
     "metadata": {},
     "output_type": "execute_result"
    }
   ],
   "source": [
    "pd.date_range('2021-04-30', '2021-05-10')"
   ]
  },
  {
   "cell_type": "markdown",
   "metadata": {},
   "source": [
    "On peut aussi spécifier simplement un point de départ et un nombre de Periods et on peut utiliser `freq` pour modifier la fréquence."
   ]
  },
  {
   "cell_type": "code",
   "execution_count": 66,
   "metadata": {
    "collapsed": false,
    "jupyter": {
     "outputs_hidden": false
    }
   },
   "outputs": [
    {
     "data": {
      "text/plain": [
       "DatetimeIndex(['2021-04-30', '2021-05-01', '2021-05-02', '2021-05-03',\n",
       "               '2021-05-04', '2021-05-05', '2021-05-06', '2021-05-07'],\n",
       "              dtype='datetime64[ns]', freq='D')"
      ]
     },
     "execution_count": 66,
     "metadata": {},
     "output_type": "execute_result"
    }
   ],
   "source": [
    "# pour avoir 8 timestamps chacune correspondant à un jour à partir d'aujourd'hui\n",
    "pd.date_range('2021-04-30', periods=8)"
   ]
  },
  {
   "cell_type": "code",
   "execution_count": 68,
   "metadata": {
    "collapsed": false,
    "jupyter": {
     "outputs_hidden": false
    }
   },
   "outputs": [
    {
     "data": {
      "text/plain": [
       "DatetimeIndex(['2021-04-30 14:00:00', '2021-04-30 16:00:00',\n",
       "               '2021-04-30 18:00:00', '2021-04-30 20:00:00',\n",
       "               '2021-04-30 22:00:00', '2021-05-01 00:00:00'],\n",
       "              dtype='datetime64[ns]', freq='2H')"
      ]
     },
     "execution_count": 68,
     "metadata": {},
     "output_type": "execute_result"
    }
   ],
   "source": [
    "# pour avoir 6 timestamps chacune correspondant à un décalage de 2 heures à partir d'aujourd'hui 14h\n",
    "pd.date_range('2021-04-30 14h', periods=6, freq='2H')"
   ]
  },
  {
   "cell_type": "markdown",
   "metadata": {},
   "source": [
    "N'hésitez pas à jeter un oeil à `pd.period_range()` et `pd.timedelta_range()` qui fonctionnent de manière similaire."
   ]
  },
  {
   "cell_type": "code",
   "execution_count": 26,
   "metadata": {
    "collapsed": false,
    "jupyter": {
     "outputs_hidden": false
    }
   },
   "outputs": [
    {
     "data": {
      "text/plain": [
       "PeriodIndex(['2020-06', '2020-07', '2020-08', '2020-09', '2020-10', '2020-11',\n",
       "             '2020-12', '2021-01'],\n",
       "            dtype='period[M]', freq='M')"
      ]
     },
     "execution_count": 26,
     "metadata": {},
     "output_type": "execute_result"
    }
   ],
   "source": [
    "pd.period_range('2021-04', periods=8, freq='M')"
   ]
  },
  {
   "cell_type": "code",
   "execution_count": 27,
   "metadata": {
    "collapsed": false,
    "jupyter": {
     "outputs_hidden": false
    }
   },
   "outputs": [
    {
     "data": {
      "text/plain": [
       "TimedeltaIndex(['00:00:00', '01:00:00', '02:00:00', '03:00:00', '04:00:00',\n",
       "                '05:00:00', '06:00:00', '07:00:00', '08:00:00', '09:00:00'],\n",
       "               dtype='timedelta64[ns]', freq='H')"
      ]
     },
     "execution_count": 27,
     "metadata": {},
     "output_type": "execute_result"
    }
   ],
   "source": [
    "pd.timedelta_range(0, periods=10, freq='H')"
   ]
  },
  {
   "cell_type": "markdown",
   "metadata": {},
   "source": [
    "Vous l'aurez compris, pour bien comprendre ce qu'il se passe et toutes les possibilités, il faut avoir une idée des codes de fréquences..."
   ]
  },
  {
   "cell_type": "markdown",
   "metadata": {},
   "source": [
    "### 2.4. Fréquences et décalages (offset)\n",
    "\n",
    "Le concept de fréquence ou de décalage (on parlera généralement d'offset)  est fondamental pour les outils `pandas` de séries temporelles.\n",
    "On a déjà croisé les codes `M` (month), `D` (day) et `H` (hour) pour définir des fréquences, on va résumé les codes Pandas dans le tableau suivant."
   ]
  },
  {
   "cell_type": "markdown",
   "metadata": {},
   "source": [
    "| Code   | Description EN        | Description     FR    | Code   | Description EN        | Description               |\n",
    "|--------|-----------------------|-----------------------|--------|-----------------------|---------------------------|\n",
    "| ``D``  | Calendar day          | Jour de la semaine    | ``B``  | Business day          | Jour ouvrable             |\n",
    "| ``W``  | Weekly                | Semaine               |        |                       |                           |\n",
    "| ``M``  | Month end             | Fin du mois           | ``BM`` | Business month end    | Fin ouvrable de mois      |\n",
    "| ``Q``  | Quarter end           | Fin du trimestre      | ``BQ`` | Business quarter end  | Fin ouvrable de trimestre |\n",
    "| ``A``  | Year end              | Fin de l'année        | ``BA`` | Business year end     | Fin ouvrable d'année      |\n",
    "| ``H``  | Hours                 | Heures                | ``BH`` | Business hours        | Heures ouvrables          |\n",
    "| ``T``  | Minutes               | Minutes               |        |                       |                           |\n",
    "| ``S``  | Seconds               | Secondes              |        |                       |                           |\n",
    "| ``L``  | Milliseonds           | Milliseondes          |        |                       |                           |\n",
    "| ``U``  | Microseconds          | Microsecondes         |        |                       |                           |\n",
    "| ``N``  | nanoseconds           | nanosecondes          |        |                       |                           |"
   ]
  },
  {
   "cell_type": "markdown",
   "metadata": {},
   "source": [
    "Les fréquences mensuelles, trimestrielles et annuelles pointent à la fin de la période par défaut. En ajoutant un suffixe `S` à la fin du nom, elles pointeront à la place au début de la période."
   ]
  },
  {
   "cell_type": "markdown",
   "metadata": {},
   "source": [
    "| Code    | Description EN         | Description FR         | Code    | Description EN         | Description FR              |\n",
    "|---------|------------------------|------------------------|---------|------------------------|-----------------------------|\n",
    "| ``MS``  | Month start            | Début de mois          |``BMS``  | Business month start   | Début ouvrable de mois      |\n",
    "| ``QS``  | Quarter start          | Début de trimestre     |``BQS``  | Business quarter start | Début ouvrable de trimestre |\n",
    "| ``AS``  | Year start             | Début d'année          |``BAS``  | Business year start    | Début ouvrable d'année      |"
   ]
  },
  {
   "cell_type": "markdown",
   "metadata": {},
   "source": [
    "On peut aussi modifier le mois utilisé pour marquer un code trimestriel ou annuel en ajoutant les 3 lettres du mois en suffixes:\n",
    "- ``Q-JAN``, ``BQ-FEB``, ``QS-MAR``, ``BQS-APR``, etc.\n",
    "- ``A-JAN``, ``BA-FEB``, ``AS-MAR``, ``BAS-APR``, etc.\n",
    "\n",
    "De la même manière, le \"jour seuil\" d'une fréquence hebdomadaire peut être modifié en ajoutant en suffixes les 3 lettres du jour:\n",
    "- ``W-SUN``, ``W-MON``, ``W-TUE``, ``W-WED``, etc.\n",
    "\n",
    "Enfin, comme vu un peu plus haut, les codes peuvent être combinés avec des valeurs numériques pour spécifier d'autres fréquences. Par exemple, pour une fréquence de 2h30min, on peut faire:"
   ]
  },
  {
   "cell_type": "code",
   "execution_count": 28,
   "metadata": {
    "collapsed": false,
    "jupyter": {
     "outputs_hidden": false
    }
   },
   "outputs": [
    {
     "data": {
      "text/plain": [
       "TimedeltaIndex(['00:00:00', '02:30:00', '05:00:00', '07:30:00', '10:00:00',\n",
       "                '12:30:00', '15:00:00', '17:30:00', '20:00:00'],\n",
       "               dtype='timedelta64[ns]', freq='150T')"
      ]
     },
     "execution_count": 28,
     "metadata": {},
     "output_type": "execute_result"
    }
   ],
   "source": [
    "pd.timedelta_range(0, periods=9, freq=\"2H30T\")"
   ]
  },
  {
   "cell_type": "markdown",
   "metadata": {},
   "source": [
    "Tout ça provient en fait du module `pd.tseries.offsets`."
   ]
  },
  {
   "cell_type": "code",
   "execution_count": 70,
   "metadata": {
    "collapsed": false,
    "jupyter": {
     "outputs_hidden": false
    }
   },
   "outputs": [
    {
     "data": {
      "text/plain": [
       "DatetimeIndex(['2021-04-30', '2021-05-03', '2021-05-04', '2021-05-05',\n",
       "               '2021-05-06', '2021-05-07', '2021-05-10'],\n",
       "              dtype='datetime64[ns]', freq='B')"
      ]
     },
     "execution_count": 70,
     "metadata": {},
     "output_type": "execute_result"
    }
   ],
   "source": [
    "# Par exemple, pour créer un décalage de jour ouvrable, on peut faire :\n",
    "from pandas.tseries.offsets import BDay\n",
    "pd.date_range('2021-04-30', periods=7, freq=BDay())"
   ]
  },
  {
   "cell_type": "code",
   "execution_count": 71,
   "metadata": {},
   "outputs": [
    {
     "data": {
      "text/plain": [
       "DatetimeIndex(['2021-04-30', '2021-05-31', '2021-06-30', '2021-07-30',\n",
       "               '2021-08-31', '2021-09-30', '2021-10-29', '2021-11-30'],\n",
       "              dtype='datetime64[ns]', freq='BM')"
      ]
     },
     "execution_count": 71,
     "metadata": {},
     "output_type": "execute_result"
    }
   ],
   "source": [
    "# Par exemple, pour récupérer le dernier jour ouvrable du mois, on peut faire :\n",
    "from pandas.tseries.offsets import BMonthEnd\n",
    "pd.date_range('2021-04-30', periods=8, freq=BMonthEnd())"
   ]
  },
  {
   "cell_type": "markdown",
   "metadata": {},
   "source": [
    "Pour en savoir plus, il y a la [section \"DateOffset\"](https://pandas.pydata.org/pandas-docs/stable/user_guide/timeseries.html#dateoffset-objects) de la documentation `pandas`.\n",
    "\n",
    "Vous trouverez, comme pour l'ensemble de nos posts, le code de ce notebook sur [le github de Statoscop](https://github.com/Statoscop/notebooks-blog). Dans le prochain article, nous commencerons à manipuler, visualiser et effectuer certains opérations classiques sur les séries temporelles avant de conclure sur une petite étude de cas. À très vite !"
   ]
  }
 ],
 "metadata": {
  "anaconda-cloud": {},
  "kernelspec": {
   "display_name": "Python 3",
   "language": "python",
   "name": "python3"
  },
  "language_info": {
   "codemirror_mode": {
    "name": "ipython",
    "version": 3
   },
   "file_extension": ".py",
   "mimetype": "text/x-python",
   "name": "python",
   "nbconvert_exporter": "python",
   "pygments_lexer": "ipython3",
   "version": "3.8.8"
  }
 },
 "nbformat": 4,
 "nbformat_minor": 4
}
