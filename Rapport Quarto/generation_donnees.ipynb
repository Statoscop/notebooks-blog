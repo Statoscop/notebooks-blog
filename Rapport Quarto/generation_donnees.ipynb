{
 "cells": [
  {
   "cell_type": "code",
   "execution_count": null,
   "metadata": {},
   "outputs": [
    {
     "name": "stdout",
     "output_type": "stream",
     "text": [
      "File saved to: base_patients_corrigee_standardisee.csv\n"
     ]
    }
   ],
   "source": [
    "import pandas as pd\n",
    "import numpy as np\n",
    "from scipy.stats import zscore\n",
    "\n",
    "# Parameters for the dataset\n",
    "n_patients = 451\n",
    "\n",
    "# Re-seeding for reproducibility\n",
    "np.random.seed(42)\n",
    "\n",
    "# Regenerating categorical variables\n",
    "sex = np.random.choice(['Homme', 'Femme'], size=n_patients)\n",
    "smoking = np.random.choice(['Non', 'Occasionnel', 'Souvent'], size=n_patients)\n",
    "weight = np.random.choice(['Sous-poids', 'Moyen', 'Surpoids'], size=n_patients)\n",
    "\n",
    "# Creating numerical variables with proper distributions\n",
    "taux_de_glucose = np.random.normal(70, 10, size=n_patients)  # Variable 1\n",
    "pression_sanguine = taux_de_glucose + np.random.normal(0, 5, size=n_patients)  # Positively correlated\n",
    "cholesterol_hdl = np.random.normal(50, 10, size=n_patients)  # Variable 3\n",
    "\n",
    "# Standardizing the numerical variables\n",
    "taux_de_glucose_z = zscore(taux_de_glucose)\n",
    "pression_sanguine_z = zscore(pression_sanguine)\n",
    "cholesterol_hdl_z = zscore(cholesterol_hdl)\n",
    "\n",
    "# Calculating disease probabilities with proper correlations\n",
    "p_maladie = (\n",
    "    0.2 +\n",
    "    0.1 * (sex == 'Femme') +\n",
    "    0.4 * (smoking == 'Souvent') +\n",
    "    0.3 * (weight == 'Surpoids') +\n",
    "    0.3 * taux_de_glucose_z +\n",
    "    0.3 * pression_sanguine_z -\n",
    "    0.2 * cholesterol_hdl_z\n",
    ")\n",
    "p_maladie = np.clip(p_maladie, 0, 1)  # Ensuring probabilities are between 0 and 1\n",
    "\n",
    "# Binary response for the disease\n",
    "maladie = np.random.binomial(1, p_maladie)\n",
    "\n",
    "# Creating the updated DataFrame\n",
    "df_corrected = pd.DataFrame({\n",
    "    'Sexe': sex,\n",
    "    'Fumeur': smoking,\n",
    "    'Poids': weight,\n",
    "    'Taux_de_glucose': taux_de_glucose,\n",
    "    'Pression_sanguine': pression_sanguine,\n",
    "    'Cholesterol_HDL': cholesterol_hdl,\n",
    "    'Maladie': maladie\n",
    "})\n",
    "\n",
    "# Saving to CSV\n",
    "file_corrected_path = 'base_patients_corrigee_standardisee.csv'\n",
    "df_corrected.to_csv(file_corrected_path, index=False)\n",
    "\n",
    "print(f\"File saved to: {file_corrected_path}\")\n"
   ]
  },
  {
   "cell_type": "code",
   "execution_count": null,
   "metadata": {},
   "outputs": [],
   "source": []
  }
 ],
 "metadata": {
  "kernelspec": {
   "display_name": "env_test_quarto",
   "language": "python",
   "name": "python3"
  },
  "language_info": {
   "codemirror_mode": {
    "name": "ipython",
    "version": 3
   },
   "file_extension": ".py",
   "mimetype": "text/x-python",
   "name": "python",
   "nbconvert_exporter": "python",
   "pygments_lexer": "ipython3",
   "version": "3.10.16"
  }
 },
 "nbformat": 4,
 "nbformat_minor": 2
}
