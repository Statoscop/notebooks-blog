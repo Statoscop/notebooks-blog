{
 "cells": [
  {
   "cell_type": "markdown",
   "metadata": {},
   "source": [
    "# Créer son environnement de travail pour faire de la Data Science avec Python  \n",
    "\n",
    "Python est un langage de programmation extrêmement complet et souvent plébiscité pour conduire ses projets en Data Science. Sa grande flexibilité, le nombre très important de [modules développés](https://pypi.org/) et de logiciels permettant de le faire tourner constitue à la fois sa richesse et est souvent source de beaucoup de difficultés pour ses nouvelles utilisatrices et utilisateurs. Il est en effet parfois difficile de reproduire un __environnement de travail simple et minimaliste__, identique à ce qu'on aurait plus naturellement en utilisant R.  \n",
    "C'est pour cela que cette semaine, on vous propose d'installer ensemble votre environnement de travail en Data Science avec Python, en se focalisant sur les outils qui nous semblent les plus pratiques et utiles au quotidien.  \n",
    "\n",
    "# Installer Python et un gestionnaire d'environnements virtuels\n",
    "\n",
    "## Python : ok simple\n",
    "## Notre conseil gestionnaire d'environnements : conda \n",
    "## installer git\n",
    "réf : papier de lino galiana\n",
    "\n",
    "# L'IDE : VsCode et ses modules\n",
    "## installer modules python, jupyter et git\n",
    "## lancer son premier notebook  \n",
    "choix de l'environnement etc\n",
    "explication iPython\n",
    "\n",
    "\n",
    "\n",
    "# Bonus : un gestionnaire de versions \n",
    "\n",
    "\n",
    "\n"
   ]
  }
 ],
 "metadata": {
  "language_info": {
   "name": "python"
  }
 },
 "nbformat": 4,
 "nbformat_minor": 2
}
